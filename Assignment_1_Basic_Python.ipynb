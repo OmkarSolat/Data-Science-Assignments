{
  "nbformat": 4,
  "nbformat_minor": 0,
  "metadata": {
    "colab": {
      "provenance": [],
      "authorship_tag": "ABX9TyMkIg2bZDLiqguEbIGnp0bS",
      "include_colab_link": true
    },
    "kernelspec": {
      "name": "python3",
      "display_name": "Python 3"
    },
    "language_info": {
      "name": "python"
    }
  },
  "cells": [
    {
      "cell_type": "markdown",
      "metadata": {
        "id": "view-in-github",
        "colab_type": "text"
      },
      "source": [
        "<a href=\"https://colab.research.google.com/github/OmkarSolat/Data-Science-Assignments/blob/main/Assignment_1_Basic_Python.ipynb\" target=\"_parent\"><img src=\"https://colab.research.google.com/assets/colab-badge.svg\" alt=\"Open In Colab\"/></a>"
      ]
    },
    {
      "cell_type": "markdown",
      "source": [
        "# Exercise 1: Prime Numbers"
      ],
      "metadata": {
        "id": "svMOmVmbqOmC"
      }
    },
    {
      "cell_type": "code",
      "execution_count": null,
      "metadata": {
        "colab": {
          "base_uri": "https://localhost:8080/"
        },
        "id": "pFq4HHCPo4Ri",
        "outputId": "0e639c41-730a-4c30-d978-91a0fad0e218"
      },
      "outputs": [
        {
          "output_type": "stream",
          "name": "stdout",
          "text": [
            "Enter a Number:61\n",
            "61 is a prime number\n"
          ]
        }
      ],
      "source": [
        "#Write a Python program that checks whether a given number is prime or not\n",
        "\n",
        "num = int(input('Enter a Number:'))     #Accepting input from user\n",
        "if num > 1:\n",
        "  for i in range(2,num):\n",
        "    if (num % i)==0:\n",
        "      print(num,'is not a prime number')\n",
        "      break\n",
        "  else:\n",
        "      print(num,'is a prime number')\n",
        "else:\n",
        "  print(num,'is not a prime number')\n"
      ]
    },
    {
      "cell_type": "markdown",
      "source": [
        "# Exercise 2: Product of Random Numbers"
      ],
      "metadata": {
        "id": "Ibjis1sDsbwG"
      }
    },
    {
      "cell_type": "code",
      "source": [
        "#Develop a Python program that generates two random numbers and asks the user to enter the product of these numbers.\n",
        "#The program should then check if the user's answer is correct and display an appropriate message.\n",
        "\n",
        "import random\n",
        "num1 = random.randint(1, 10)  # Adjust the range as needed\n",
        "num2 = random.randint(1, 10)\n",
        "\n",
        "correct_answer = num1 * num2\n",
        "user_answer = int(input(f\"What is the product of {num1} and {num2}? : \"))     #Accepting user answer\n",
        "\n",
        "if user_answer == correct_answer:\n",
        "    print(\"Correct!\")\n",
        "else:\n",
        "    print(f\"Incorrect. The correct answer is {correct_answer}\")\n"
      ],
      "metadata": {
        "colab": {
          "base_uri": "https://localhost:8080/"
        },
        "id": "cYhdlK5SqB7A",
        "outputId": "a94c17b4-7cfa-4cdf-eab0-ad13ec99fec9"
      },
      "execution_count": null,
      "outputs": [
        {
          "output_type": "stream",
          "name": "stdout",
          "text": [
            "What is the product of 5 and 5? : 25\n",
            "Correct!\n"
          ]
        }
      ]
    },
    {
      "cell_type": "markdown",
      "source": [
        "# Exercise 3: Squares of Even/Odd Numbers"
      ],
      "metadata": {
        "id": "1vQN4l1huN4R"
      }
    },
    {
      "cell_type": "code",
      "source": [
        "#Create a Python script that prints the squares of all even or odd numbers within the range of 100 to 200.\n",
        "#Choose either even or odd numbers and document your choice in the code.\n",
        "\n",
        "#choosing to print squares of even numbers\n",
        "for i in range(100,201):\n",
        "  if i % 2 == 0:\n",
        "    print(i**2)"
      ],
      "metadata": {
        "colab": {
          "base_uri": "https://localhost:8080/"
        },
        "id": "zSBXzLkKqBwu",
        "outputId": "684373a1-395a-4ea2-cb27-d7668c807bfd"
      },
      "execution_count": null,
      "outputs": [
        {
          "output_type": "stream",
          "name": "stdout",
          "text": [
            "10000\n",
            "10404\n",
            "10816\n",
            "11236\n",
            "11664\n",
            "12100\n",
            "12544\n",
            "12996\n",
            "13456\n",
            "13924\n",
            "14400\n",
            "14884\n",
            "15376\n",
            "15876\n",
            "16384\n",
            "16900\n",
            "17424\n",
            "17956\n",
            "18496\n",
            "19044\n",
            "19600\n",
            "20164\n",
            "20736\n",
            "21316\n",
            "21904\n",
            "22500\n",
            "23104\n",
            "23716\n",
            "24336\n",
            "24964\n",
            "25600\n",
            "26244\n",
            "26896\n",
            "27556\n",
            "28224\n",
            "28900\n",
            "29584\n",
            "30276\n",
            "30976\n",
            "31684\n",
            "32400\n",
            "33124\n",
            "33856\n",
            "34596\n",
            "35344\n",
            "36100\n",
            "36864\n",
            "37636\n",
            "38416\n",
            "39204\n",
            "40000\n"
          ]
        }
      ]
    },
    {
      "cell_type": "markdown",
      "source": [
        "# Exercise 4: Word counter"
      ],
      "metadata": {
        "id": "5jEWZ85M6ql5"
      }
    },
    {
      "cell_type": "code",
      "source": [
        "# program to count the number of words in a given text\n",
        "\n",
        "text = input('Enter  your text :')\n",
        "words = text.split()\n",
        "word_count = len(words)\n",
        "print(f\"The number of words in the text is :\",word_count)"
      ],
      "metadata": {
        "colab": {
          "base_uri": "https://localhost:8080/"
        },
        "id": "c0NeELw0qBtS",
        "outputId": "3bd7f3df-e984-4b35-afb3-994d680a6830"
      },
      "execution_count": null,
      "outputs": [
        {
          "output_type": "stream",
          "name": "stdout",
          "text": [
            "Enter  your text :The virat kohli Era\n",
            "The number of words in the text is : 4\n"
          ]
        }
      ]
    },
    {
      "cell_type": "markdown",
      "source": [
        "# Exercise 5: Check for Palindrome"
      ],
      "metadata": {
        "id": "OpbiAGES7fHh"
      }
    },
    {
      "cell_type": "code",
      "source": [
        "#Write a Python function called is_palindrome that takes a string as input &\n",
        "#returns True if the string is a palindrome, and False otherwise.\n",
        "\n",
        "def is_pallindrome(string):\n",
        "  if string == string[::-1]:\n",
        "    print('TRUE')\n",
        "  else:\n",
        "    print('FALSE')\n",
        "is_pallindrome('RADAR')"
      ],
      "metadata": {
        "colab": {
          "base_uri": "https://localhost:8080/"
        },
        "id": "cyXvFqYbqBp3",
        "outputId": "aab4b9ae-958d-4218-d8c1-22e0f3f8e7df"
      },
      "execution_count": null,
      "outputs": [
        {
          "output_type": "stream",
          "name": "stdout",
          "text": [
            "TRUE\n"
          ]
        }
      ]
    }
  ]
}