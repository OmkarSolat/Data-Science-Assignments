{
  "nbformat": 4,
  "nbformat_minor": 0,
  "metadata": {
    "colab": {
      "provenance": [],
      "include_colab_link": true
    },
    "kernelspec": {
      "name": "python3",
      "display_name": "Python 3"
    },
    "language_info": {
      "name": "python"
    }
  },
  "cells": [
    {
      "cell_type": "markdown",
      "metadata": {
        "id": "view-in-github",
        "colab_type": "text"
      },
      "source": [
        "<a href=\"https://colab.research.google.com/github/OmkarSolat/Data-Science-Assignments/blob/main/Assignment_4_Hypothesis_Testing.ipynb\" target=\"_parent\"><img src=\"https://colab.research.google.com/assets/colab-badge.svg\" alt=\"Open In Colab\"/></a>"
      ]
    },
    {
      "cell_type": "markdown",
      "source": [
        "# **1. CHI-SQUARE TEST**"
      ],
      "metadata": {
        "id": "bwV5AxZYxPVt"
      }
    },
    {
      "cell_type": "markdown",
      "source": [
        "\n",
        "1.   Null Hypothesis (H0): There is no significant association between the type of smart home device and customer satisfaction levels.\n",
        "2.   Alternative Hypothesis (H1): There is a significant association between the type of smart home device and customer satisfaction levels.\n",
        "\n"
      ],
      "metadata": {
        "id": "ZKQpqT_9qhAk"
      }
    },
    {
      "cell_type": "markdown",
      "source": [
        "Computing the Chi-Square Statistic-"
      ],
      "metadata": {
        "id": "gfoxL4DtrMpD"
      }
    },
    {
      "cell_type": "code",
      "source": [
        "import numpy as np\n",
        "import scipy.stats as stats"
      ],
      "metadata": {
        "id": "ijWyznwjq9GJ"
      },
      "execution_count": null,
      "outputs": []
    },
    {
      "cell_type": "code",
      "source": [
        "data = np.array([[50, 70],[80, 100],[60, 90],[30, 50],[20, 50]])"
      ],
      "metadata": {
        "id": "pIFXpBhqrw9u"
      },
      "execution_count": null,
      "outputs": []
    },
    {
      "cell_type": "code",
      "source": [
        "chi2, p, dof, expected = stats.chi2_contingency(data)"
      ],
      "metadata": {
        "id": "a4ul938lsPMb"
      },
      "execution_count": null,
      "outputs": []
    },
    {
      "cell_type": "code",
      "source": [
        "#chi_square_statistic\n",
        "chi_sq_statistic=chi2\n",
        "chi_sq_statistic"
      ],
      "metadata": {
        "colab": {
          "base_uri": "https://localhost:8080/"
        },
        "id": "DSLMhEHztCED",
        "outputId": "e3fa3cab-1ac1-45db-8eb3-87156e293ca5"
      },
      "execution_count": null,
      "outputs": [
        {
          "output_type": "execute_result",
          "data": {
            "text/plain": [
              "5.638227513227513"
            ]
          },
          "metadata": {},
          "execution_count": 4
        }
      ]
    },
    {
      "cell_type": "code",
      "source": [
        "#P-value\n",
        "p"
      ],
      "metadata": {
        "colab": {
          "base_uri": "https://localhost:8080/"
        },
        "id": "hbE7iFUYtD0B",
        "outputId": "680fe497-8446-4f1b-b33d-7104219e9222"
      },
      "execution_count": null,
      "outputs": [
        {
          "output_type": "execute_result",
          "data": {
            "text/plain": [
              "0.22784371130697179"
            ]
          },
          "metadata": {},
          "execution_count": 5
        }
      ]
    },
    {
      "cell_type": "code",
      "source": [
        "#degrees of freedom\n",
        "dof"
      ],
      "metadata": {
        "colab": {
          "base_uri": "https://localhost:8080/"
        },
        "id": "8DCAXVrFtEhR",
        "outputId": "99936edb-a55c-4c30-caa9-bb2ffed8a593"
      },
      "execution_count": null,
      "outputs": [
        {
          "output_type": "execute_result",
          "data": {
            "text/plain": [
              "4"
            ]
          },
          "metadata": {},
          "execution_count": 6
        }
      ]
    },
    {
      "cell_type": "code",
      "source": [
        "#Expected frequencies\n",
        "expected"
      ],
      "metadata": {
        "colab": {
          "base_uri": "https://localhost:8080/"
        },
        "id": "aX3CH0AKtFsS",
        "outputId": "451c9f24-75e9-44e7-de49-3c66168dbec5"
      },
      "execution_count": null,
      "outputs": [
        {
          "output_type": "execute_result",
          "data": {
            "text/plain": [
              "array([[ 48.,  72.],\n",
              "       [ 72., 108.],\n",
              "       [ 60.,  90.],\n",
              "       [ 32.,  48.],\n",
              "       [ 28.,  42.]])"
            ]
          },
          "metadata": {},
          "execution_count": 7
        }
      ]
    },
    {
      "cell_type": "code",
      "source": [
        "#critical_value\n",
        "critical_value=stats.chi2.ppf(0.95,4)\n",
        "critical_value"
      ],
      "metadata": {
        "colab": {
          "base_uri": "https://localhost:8080/"
        },
        "id": "KkoARUMVtH16",
        "outputId": "73c6973c-b163-4c30-8824-1bc09c590988"
      },
      "execution_count": null,
      "outputs": [
        {
          "output_type": "execute_result",
          "data": {
            "text/plain": [
              "9.487729036781154"
            ]
          },
          "metadata": {},
          "execution_count": 8
        }
      ]
    },
    {
      "cell_type": "markdown",
      "source": [
        "COMPARING STATISTICAL AND CRITICAL VALUE-"
      ],
      "metadata": {
        "id": "TsmtHr_Ivhsl"
      }
    },
    {
      "cell_type": "code",
      "source": [
        "print(\"Chi-Square Statistic :\", chi_sq_statistic)\n",
        "print(\"Critical Value :\", critical_value)"
      ],
      "metadata": {
        "colab": {
          "base_uri": "https://localhost:8080/"
        },
        "id": "HYjbj8CYvWRm",
        "outputId": "cb6ca3f5-de66-432f-acf9-6b98771c99a8"
      },
      "execution_count": null,
      "outputs": [
        {
          "output_type": "stream",
          "name": "stdout",
          "text": [
            "Chi-Square Statistic : 5.638227513227513\n",
            "Critical Value : 9.487729036781154\n"
          ]
        }
      ]
    },
    {
      "cell_type": "markdown",
      "source": [
        "Decision -\n",
        "\n",
        "Here Chi-Square statistic < Critical Value\n",
        "\n",
        "\n",
        "Hence we accept the Null Hypothesis and Reject the Alternate Hypothesis\n",
        "\n",
        "\n",
        "i.e.There is a no significant association between the type of smart home device and customer satisfaction levels.\n",
        "\n"
      ],
      "metadata": {
        "id": "I6Yae2i5wBcO"
      }
    },
    {
      "cell_type": "markdown",
      "source": [
        "# **2. Hypothesis Testing for Weekly Operating Costs**"
      ],
      "metadata": {
        "id": "Kgb-fXKKyxYb"
      }
    },
    {
      "cell_type": "markdown",
      "source": [
        "\n",
        "1.   Null Hypothesis (H0): The weekly operating costs are as predicted by the model  W = 1000 + 5X\n",
        "\n",
        "2.   Alternative Hypothesis (H1): The weekly operating costs are higher than predicted by the model.\n",
        "\n",
        "\n",
        "\n"
      ],
      "metadata": {
        "id": "r4MMRhT3z55b"
      }
    },
    {
      "cell_type": "code",
      "source": [
        "import numpy as np\n",
        "import scipy.stats as stats"
      ],
      "metadata": {
        "id": "uq1H6Ppsy1k2"
      },
      "execution_count": null,
      "outputs": []
    },
    {
      "cell_type": "code",
      "source": [
        "# Given data\n",
        "sample_mean = 3050\n",
        "theoretical_mean = 1000 + 5*600\n",
        "sigma = 5*25\n",
        "n = 25"
      ],
      "metadata": {
        "id": "EMetW2uQ1Fxr"
      },
      "execution_count": null,
      "outputs": []
    },
    {
      "cell_type": "code",
      "source": [
        "#Calculating_test_statistic\n",
        "test_statistic = (sample_mean - theoretical_mean) / (sigma / np.sqrt(n))\n",
        "test_statistic"
      ],
      "metadata": {
        "colab": {
          "base_uri": "https://localhost:8080/"
        },
        "id": "ekPHpNEV1du4",
        "outputId": "21f0d7ec-bf20-417e-f5f5-7852b0db56ed"
      },
      "execution_count": null,
      "outputs": [
        {
          "output_type": "execute_result",
          "data": {
            "text/plain": [
              "-38.0"
            ]
          },
          "metadata": {},
          "execution_count": 12
        }
      ]
    },
    {
      "cell_type": "code",
      "source": [
        "#Calculating_the_critical_Value\n",
        "alpha=0.05\n",
        "critical_value1 = stats.norm.ppf(1-alpha)\n",
        "critical_value1"
      ],
      "metadata": {
        "colab": {
          "base_uri": "https://localhost:8080/"
        },
        "id": "G8PSz1mH22Q9",
        "outputId": "c0a5f6b5-8690-4347-fdb2-d812883d6b91"
      },
      "execution_count": null,
      "outputs": [
        {
          "output_type": "execute_result",
          "data": {
            "text/plain": [
              "1.6448536269514722"
            ]
          },
          "metadata": {},
          "execution_count": 13
        }
      ]
    },
    {
      "cell_type": "code",
      "source": [
        "print(critical_value1)\n",
        "print(test_statistic)"
      ],
      "metadata": {
        "colab": {
          "base_uri": "https://localhost:8080/"
        },
        "id": "Fewwmi3T_hZN",
        "outputId": "574272e9-84fd-491f-b4a7-0ed931324942"
      },
      "execution_count": null,
      "outputs": [
        {
          "output_type": "stream",
          "name": "stdout",
          "text": [
            "1.6448536269514722\n",
            "-38.0\n"
          ]
        }
      ]
    },
    {
      "cell_type": "markdown",
      "source": [
        "Decision -\n",
        "\n",
        "Here test_statistic < Critical Value\n",
        "\n",
        "Hence we reject the Null Hypothesis and accept the Alternate Hypothesis\n",
        "\n",
        "i.e.whether there is strong evidence to support the restaurant owner's claim that the weekly operating costs are higher than the model suggests.\n",
        "\n"
      ],
      "metadata": {
        "id": "cKGBw6Ah4aI2"
      }
    },
    {
      "cell_type": "code",
      "source": [],
      "metadata": {
        "id": "OEoSqLxD3750"
      },
      "execution_count": null,
      "outputs": []
    }
  ]
}